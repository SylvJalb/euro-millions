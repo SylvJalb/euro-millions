{
 "cells": [
  {
   "cell_type": "markdown",
   "metadata": {},
   "source": [
    "# Import libraries"
   ]
  },
  {
   "cell_type": "code",
   "execution_count": 40,
   "metadata": {},
   "outputs": [],
   "source": [
    "import pandas as pd\n",
    "import math"
   ]
  },
  {
   "cell_type": "markdown",
   "metadata": {},
   "source": [
    "# Import datas"
   ]
  },
  {
   "cell_type": "code",
   "execution_count": 9,
   "metadata": {},
   "outputs": [],
   "source": [
    "df = pd.read_csv('../../datasource/EuroMillions_numbers.csv', sep=\";\")"
   ]
  },
  {
   "cell_type": "markdown",
   "metadata": {},
   "source": [
    "# Get apparitions times"
   ]
  },
  {
   "cell_type": "code",
   "execution_count": 52,
   "metadata": {},
   "outputs": [],
   "source": [
    "count_number = df['N1'].value_counts() + df['N2'].value_counts() + df['N3'].value_counts() + df['N4'].value_counts() + df['N5'].value_counts()\n",
    "count_additional_number = df['E1'].value_counts() + df['E2'].value_counts()"
   ]
  },
  {
   "cell_type": "markdown",
   "metadata": {},
   "source": [
    "# Get chance to win"
   ]
  },
  {
   "cell_type": "code",
   "execution_count": 65,
   "metadata": {},
   "outputs": [],
   "source": [
    "def combination(n, k):\n",
    "    return math.factorial(n) // (math.factorial(k) * math.factorial(n-k))\n",
    "\n",
    "def get_chance_of_winning(numbers, additionalNumbers):\n",
    "    \"\"\"\n",
    "    Calculate the chance of winning for a given set of numbers and additional numbers.\n",
    "    Use combinations to calculate the chance of winning.\n",
    "    \"\"\"\n",
    "    # calculate the chance of winning for the main numbers\n",
    "    chanceOfWinningNumbers = 1 / combination(count_number.index.max(), len(numbers))\n",
    "    averageChanceNumbers = 0\n",
    "    for number in numbers:\n",
    "        averageChanceNumbers += 1 - (count_number[number] - count_number.mean()) / count_number.sum()\n",
    "    averageChanceNumbers /= len(numbers)\n",
    "    chanceOfWinningNumbers *= averageChanceNumbers\n",
    "    # calculate the chance of winning for the additional numbers\n",
    "    chanceOfWinningAdditionalNumbers = 1 / combination(count_additional_number.index.max(), len(additionalNumbers))\n",
    "    averageChanceAdditionalNumbers = 0\n",
    "    for number in additionalNumbers:\n",
    "        averageChanceAdditionalNumbers += 1 - (count_additional_number[number] - count_additional_number.mean()) / count_additional_number.sum()\n",
    "    averageChanceAdditionalNumbers /= len(additionalNumbers)\n",
    "    chanceOfWinningAdditionalNumbers *= averageChanceAdditionalNumbers\n",
    "    # return the chance of winning for all numbers\n",
    "    return chanceOfWinningNumbers * chanceOfWinningAdditionalNumbers"
   ]
  },
  {
   "cell_type": "markdown",
   "metadata": {},
   "source": [
    "# Try the function"
   ]
  },
  {
   "cell_type": "code",
   "execution_count": 77,
   "metadata": {},
   "outputs": [
    {
     "name": "stdout",
     "output_type": "stream",
     "text": [
      "random combination [32, 25, 34, 9, 42] [8, 7]\n",
      "chance proba : 7.07468860148339e-09\n"
     ]
    }
   ],
   "source": [
    "# generate a random set of numbers\n",
    "numbers = random.sample(range(1, 51), 5)\n",
    "additionalNumbers = random.sample(range(1, 13), 2)\n",
    "print(\"random combination\", numbers, additionalNumbers)\n",
    "print(\"chance proba :\", get_chance_of_winning(numbers, additionalNumbers))"
   ]
  },
  {
   "cell_type": "markdown",
   "metadata": {},
   "source": [
    "# Get the best combinaison of numbers generation"
   ]
  },
  {
   "cell_type": "code",
   "execution_count": 78,
   "metadata": {},
   "outputs": [
    {
     "name": "stdout",
     "output_type": "stream",
     "text": [
      "[6, 16, 33, 40, 47] [11, 12] 7.4230053393488425e-09\n"
     ]
    }
   ],
   "source": [
    "import random\n",
    "bestNumbers = [1, 2, 3, 4, 5]\n",
    "bestAdditionalNumbers = [1, 2]\n",
    "bestChance = 0\n",
    "for i in range(10000):\n",
    "    # generate a random set of numbers\n",
    "    numbers = random.sample(range(1, 51), 5)\n",
    "    additionalNumbers = random.sample(range(1, 13), 2)\n",
    "    # calculate the chance of winning\n",
    "    chanceOfWinning = get_chance_of_winning(numbers, additionalNumbers)\n",
    "    # check if the chance of winning is higher than the current best chance\n",
    "    if chanceOfWinning > bestChance:\n",
    "        bestChance = chanceOfWinning\n",
    "        bestNumbers = numbers\n",
    "        bestAdditionalNumbers = additionalNumbers\n",
    "bestNumbers.sort()\n",
    "bestAdditionalNumbers.sort()\n",
    "print(bestNumbers, bestAdditionalNumbers, bestChance)"
   ]
  },
  {
   "cell_type": "markdown",
   "metadata": {},
   "source": [
    "# Conclusion"
   ]
  },
  {
   "cell_type": "markdown",
   "metadata": {},
   "source": [
    "**We therefore manage to find a combination that has a better chance of winning than a random combination.**"
   ]
  }
 ],
 "metadata": {
  "interpreter": {
   "hash": "7ca5a1e123733b76bdd97e5d9034fc9a426a5f6c058b955efec2ecffca90eccb"
  },
  "kernelspec": {
   "display_name": "Python 3.10.0 64-bit ('3.10.0': pyenv)",
   "language": "python",
   "name": "python3"
  },
  "language_info": {
   "codemirror_mode": {
    "name": "ipython",
    "version": 3
   },
   "file_extension": ".py",
   "mimetype": "text/x-python",
   "name": "python",
   "nbconvert_exporter": "python",
   "pygments_lexer": "ipython3",
   "version": "3.10.0"
  },
  "orig_nbformat": 4
 },
 "nbformat": 4,
 "nbformat_minor": 2
}
