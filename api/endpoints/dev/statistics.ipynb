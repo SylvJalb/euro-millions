{
 "cells": [
  {
   "cell_type": "markdown",
   "metadata": {},
   "source": [
    "# Import libraries"
   ]
  },
  {
   "cell_type": "code",
   "execution_count": 1,
   "metadata": {},
   "outputs": [],
   "source": [
    "import pandas as pd\n",
    "import math\n",
    "import random"
   ]
  },
  {
   "cell_type": "markdown",
   "metadata": {},
   "source": [
    "# Import datas"
   ]
  },
  {
   "cell_type": "code",
   "execution_count": 2,
   "metadata": {},
   "outputs": [],
   "source": [
    "df = pd.read_csv('../../../datasource/euromillions.csv', sep=\";\")\n",
    "df['N1'] = df['N1'].astype(int)\n",
    "df['N2'] = df['N2'].astype(int)\n",
    "df['N3'] = df['N3'].astype(int)\n",
    "df['N4'] = df['N4'].astype(int)\n",
    "df['N5'] = df['N5'].astype(int)\n",
    "df['E1'] = df['E1'].astype(int)\n",
    "df['E2'] = df['E2'].astype(int)"
   ]
  },
  {
   "cell_type": "code",
   "execution_count": 3,
   "metadata": {},
   "outputs": [
    {
     "data": {
      "text/html": [
       "<div>\n",
       "<style scoped>\n",
       "    .dataframe tbody tr th:only-of-type {\n",
       "        vertical-align: middle;\n",
       "    }\n",
       "\n",
       "    .dataframe tbody tr th {\n",
       "        vertical-align: top;\n",
       "    }\n",
       "\n",
       "    .dataframe thead th {\n",
       "        text-align: right;\n",
       "    }\n",
       "</style>\n",
       "<table border=\"1\" class=\"dataframe\">\n",
       "  <thead>\n",
       "    <tr style=\"text-align: right;\">\n",
       "      <th></th>\n",
       "      <th>Date</th>\n",
       "      <th>N1</th>\n",
       "      <th>N2</th>\n",
       "      <th>N3</th>\n",
       "      <th>N4</th>\n",
       "      <th>N5</th>\n",
       "      <th>E1</th>\n",
       "      <th>E2</th>\n",
       "      <th>Winner</th>\n",
       "      <th>Gain</th>\n",
       "    </tr>\n",
       "  </thead>\n",
       "  <tbody>\n",
       "    <tr>\n",
       "      <th>0</th>\n",
       "      <td>2021-12-07</td>\n",
       "      <td>22</td>\n",
       "      <td>31</td>\n",
       "      <td>38</td>\n",
       "      <td>46</td>\n",
       "      <td>47</td>\n",
       "      <td>7</td>\n",
       "      <td>11</td>\n",
       "      <td>1</td>\n",
       "      <td>143000000</td>\n",
       "    </tr>\n",
       "    <tr>\n",
       "      <th>1</th>\n",
       "      <td>2021-12-03</td>\n",
       "      <td>21</td>\n",
       "      <td>22</td>\n",
       "      <td>29</td>\n",
       "      <td>32</td>\n",
       "      <td>46</td>\n",
       "      <td>9</td>\n",
       "      <td>10</td>\n",
       "      <td>0</td>\n",
       "      <td>130000000</td>\n",
       "    </tr>\n",
       "    <tr>\n",
       "      <th>2</th>\n",
       "      <td>2021-11-30</td>\n",
       "      <td>19</td>\n",
       "      <td>20</td>\n",
       "      <td>26</td>\n",
       "      <td>33</td>\n",
       "      <td>43</td>\n",
       "      <td>1</td>\n",
       "      <td>4</td>\n",
       "      <td>0</td>\n",
       "      <td>0</td>\n",
       "    </tr>\n",
       "    <tr>\n",
       "      <th>3</th>\n",
       "      <td>2021-11-26</td>\n",
       "      <td>1</td>\n",
       "      <td>20</td>\n",
       "      <td>41</td>\n",
       "      <td>42</td>\n",
       "      <td>50</td>\n",
       "      <td>3</td>\n",
       "      <td>7</td>\n",
       "      <td>1</td>\n",
       "      <td>163000000</td>\n",
       "    </tr>\n",
       "    <tr>\n",
       "      <th>4</th>\n",
       "      <td>2021-11-23</td>\n",
       "      <td>17</td>\n",
       "      <td>21</td>\n",
       "      <td>36</td>\n",
       "      <td>42</td>\n",
       "      <td>46</td>\n",
       "      <td>7</td>\n",
       "      <td>10</td>\n",
       "      <td>0</td>\n",
       "      <td>145000000</td>\n",
       "    </tr>\n",
       "    <tr>\n",
       "      <th>...</th>\n",
       "      <td>...</td>\n",
       "      <td>...</td>\n",
       "      <td>...</td>\n",
       "      <td>...</td>\n",
       "      <td>...</td>\n",
       "      <td>...</td>\n",
       "      <td>...</td>\n",
       "      <td>...</td>\n",
       "      <td>...</td>\n",
       "      <td>...</td>\n",
       "    </tr>\n",
       "    <tr>\n",
       "      <th>1478</th>\n",
       "      <td>2004-03-12</td>\n",
       "      <td>15</td>\n",
       "      <td>24</td>\n",
       "      <td>28</td>\n",
       "      <td>44</td>\n",
       "      <td>47</td>\n",
       "      <td>4</td>\n",
       "      <td>5</td>\n",
       "      <td>0</td>\n",
       "      <td>15000000</td>\n",
       "    </tr>\n",
       "    <tr>\n",
       "      <th>1479</th>\n",
       "      <td>2004-03-05</td>\n",
       "      <td>4</td>\n",
       "      <td>7</td>\n",
       "      <td>33</td>\n",
       "      <td>37</td>\n",
       "      <td>39</td>\n",
       "      <td>1</td>\n",
       "      <td>5</td>\n",
       "      <td>1</td>\n",
       "      <td>20000000</td>\n",
       "    </tr>\n",
       "    <tr>\n",
       "      <th>1480</th>\n",
       "      <td>2004-02-27</td>\n",
       "      <td>14</td>\n",
       "      <td>18</td>\n",
       "      <td>19</td>\n",
       "      <td>31</td>\n",
       "      <td>37</td>\n",
       "      <td>4</td>\n",
       "      <td>5</td>\n",
       "      <td>0</td>\n",
       "      <td>17000000</td>\n",
       "    </tr>\n",
       "    <tr>\n",
       "      <th>1481</th>\n",
       "      <td>2004-02-20</td>\n",
       "      <td>7</td>\n",
       "      <td>13</td>\n",
       "      <td>39</td>\n",
       "      <td>47</td>\n",
       "      <td>50</td>\n",
       "      <td>2</td>\n",
       "      <td>5</td>\n",
       "      <td>0</td>\n",
       "      <td>15000000</td>\n",
       "    </tr>\n",
       "    <tr>\n",
       "      <th>1482</th>\n",
       "      <td>2004-02-13</td>\n",
       "      <td>16</td>\n",
       "      <td>29</td>\n",
       "      <td>32</td>\n",
       "      <td>36</td>\n",
       "      <td>41</td>\n",
       "      <td>7</td>\n",
       "      <td>9</td>\n",
       "      <td>1</td>\n",
       "      <td>15000000</td>\n",
       "    </tr>\n",
       "  </tbody>\n",
       "</table>\n",
       "<p>1483 rows × 10 columns</p>\n",
       "</div>"
      ],
      "text/plain": [
       "            Date  N1  N2  N3  N4  N5  E1  E2  Winner       Gain\n",
       "0     2021-12-07  22  31  38  46  47   7  11       1  143000000\n",
       "1     2021-12-03  21  22  29  32  46   9  10       0  130000000\n",
       "2     2021-11-30  19  20  26  33  43   1   4       0          0\n",
       "3     2021-11-26   1  20  41  42  50   3   7       1  163000000\n",
       "4     2021-11-23  17  21  36  42  46   7  10       0  145000000\n",
       "...          ...  ..  ..  ..  ..  ..  ..  ..     ...        ...\n",
       "1478  2004-03-12  15  24  28  44  47   4   5       0   15000000\n",
       "1479  2004-03-05   4   7  33  37  39   1   5       1   20000000\n",
       "1480  2004-02-27  14  18  19  31  37   4   5       0   17000000\n",
       "1481  2004-02-20   7  13  39  47  50   2   5       0   15000000\n",
       "1482  2004-02-13  16  29  32  36  41   7   9       1   15000000\n",
       "\n",
       "[1483 rows x 10 columns]"
      ]
     },
     "execution_count": 3,
     "metadata": {},
     "output_type": "execute_result"
    }
   ],
   "source": [
    "df"
   ]
  },
  {
   "cell_type": "markdown",
   "metadata": {},
   "source": [
    "# Get apparitions times"
   ]
  },
  {
   "cell_type": "code",
   "execution_count": 4,
   "metadata": {},
   "outputs": [],
   "source": [
    "count_number = df['N1'].value_counts().add(df['N2'].value_counts(), fill_value=0).add(df['N3'].value_counts(), fill_value=0).add(df['N4'].value_counts(), fill_value=0).add(df['N5'].value_counts(), fill_value=0)\n",
    "count_additional_number = df['E1'].value_counts().add(df['E2'].value_counts(), fill_value=0)"
   ]
  },
  {
   "cell_type": "markdown",
   "metadata": {},
   "source": [
    "# Get chance to win"
   ]
  },
  {
   "cell_type": "code",
   "execution_count": 5,
   "metadata": {},
   "outputs": [],
   "source": [
    "def combination(n, k):\n",
    "    return math.factorial(n) // (math.factorial(k) * math.factorial(n-k))\n",
    "\n",
    "def get_chance_of_winning(numbers, additionalNumbers):\n",
    "    \"\"\"\n",
    "    Calculate the chance of winning for a given set of numbers and additional numbers.\n",
    "    Use combinations to calculate the chance of winning.\n",
    "    \"\"\"\n",
    "    # calculate the chance of winning for the main numbers\n",
    "    chanceOfWinningNumbers = 1 / combination(count_number.index.max(), len(numbers))\n",
    "    averageChanceNumbers = 0\n",
    "    for number in numbers:\n",
    "        averageChanceNumbers += 1 - (count_number[number] - count_number.mean()) / count_number.sum()\n",
    "    averageChanceNumbers /= len(numbers)\n",
    "    chanceOfWinningNumbers *= averageChanceNumbers\n",
    "    # calculate the chance of winning for the additional numbers\n",
    "    chanceOfWinningAdditionalNumbers = 1 / combination(count_additional_number.index.max(), len(additionalNumbers))\n",
    "    averageChanceAdditionalNumbers = 0\n",
    "    for number in additionalNumbers:\n",
    "        averageChanceAdditionalNumbers += 1 - (count_additional_number[number] - count_additional_number.mean()) / count_additional_number.sum()\n",
    "    averageChanceAdditionalNumbers /= len(additionalNumbers)\n",
    "    chanceOfWinningAdditionalNumbers *= averageChanceAdditionalNumbers\n",
    "    # return the chance of winning for all numbers\n",
    "    return chanceOfWinningNumbers * chanceOfWinningAdditionalNumbers"
   ]
  },
  {
   "cell_type": "markdown",
   "metadata": {},
   "source": [
    "# Try the function"
   ]
  },
  {
   "cell_type": "code",
   "execution_count": 13,
   "metadata": {},
   "outputs": [
    {
     "name": "stdout",
     "output_type": "stream",
     "text": [
      "random combination [35, 39, 49, 25, 40] [7, 6]\n",
      "chance proba : 7.100301851625784e-09\n"
     ]
    }
   ],
   "source": [
    "# generate a random set of numbers\n",
    "numbers = random.sample(range(1, 51), 5)\n",
    "additionalNumbers = random.sample(range(1, 13), 2)\n",
    "print(\"random combination\", numbers, additionalNumbers)\n",
    "print(\"chance proba :\", get_chance_of_winning(numbers, additionalNumbers))"
   ]
  },
  {
   "cell_type": "markdown",
   "metadata": {},
   "source": [
    "# Get the best combinaison of numbers generation"
   ]
  },
  {
   "cell_type": "code",
   "execution_count": 7,
   "metadata": {},
   "outputs": [
    {
     "name": "stdout",
     "output_type": "stream",
     "text": [
      "[18, 25, 32, 33, 40] [11, 12] 7.4219969492748935e-09\n"
     ]
    }
   ],
   "source": [
    "import random\n",
    "bestNumbers = [1, 2, 3, 4, 5]\n",
    "bestAdditionalNumbers = [1, 2]\n",
    "bestChance = 0\n",
    "for i in range(10000):\n",
    "    # generate a random set of numbers\n",
    "    numbers = random.sample(range(1, 51), 5)\n",
    "    additionalNumbers = random.sample(range(1, 13), 2)\n",
    "    # calculate the chance of winning\n",
    "    chanceOfWinning = get_chance_of_winning(numbers, additionalNumbers)\n",
    "    # check if the chance of winning is higher than the current best chance\n",
    "    if chanceOfWinning > bestChance:\n",
    "        bestChance = chanceOfWinning\n",
    "        bestNumbers = numbers\n",
    "        bestAdditionalNumbers = additionalNumbers\n",
    "bestNumbers.sort()\n",
    "bestAdditionalNumbers.sort()\n",
    "print(bestNumbers, bestAdditionalNumbers, bestChance)"
   ]
  },
  {
   "cell_type": "markdown",
   "metadata": {},
   "source": [
    "# Conclusion"
   ]
  },
  {
   "cell_type": "markdown",
   "metadata": {},
   "source": [
    "**We therefore manage to find a combination that has a better chance of winning than a random combination.**"
   ]
  }
 ],
 "metadata": {
  "interpreter": {
   "hash": "7ca5a1e123733b76bdd97e5d9034fc9a426a5f6c058b955efec2ecffca90eccb"
  },
  "kernelspec": {
   "display_name": "Python 3.10.0 64-bit ('3.10.0': pyenv)",
   "language": "python",
   "name": "python3"
  },
  "language_info": {
   "codemirror_mode": {
    "name": "ipython",
    "version": 3
   },
   "file_extension": ".py",
   "mimetype": "text/x-python",
   "name": "python",
   "nbconvert_exporter": "python",
   "pygments_lexer": "ipython3",
   "version": "3.10.0"
  },
  "orig_nbformat": 4
 },
 "nbformat": 4,
 "nbformat_minor": 2
}
